{
 "cells": [
  {
   "cell_type": "code",
   "execution_count": 1,
   "metadata": {},
   "outputs": [],
   "source": [
    "import numpy as np\n",
    "import matplotlib.pyplot as plt\n",
    "from matplotlib.backends.backend_agg import FigureCanvasAgg as FigureCanvas\n",
    "from matplotlib.figure import Figure\n",
    "from scipy.sparse import csc_matrix, lil_matrix\n",
    "from cv2 import VideoWriter, VideoWriter_fourcc\n",
    "import cv2\n",
    "from tqdm import tqdm_notebook"
   ]
  },
  {
   "cell_type": "code",
   "execution_count": 2,
   "metadata": {},
   "outputs": [],
   "source": [
    "def get_bgr_img(array):\n",
    "    fig = Figure()\n",
    "    canvas = FigureCanvas(fig)\n",
    "    subplot = fig.subplots()\n",
    "    fig.colorbar(subplot.imshow(array))\n",
    "    fig.gca().invert_yaxis()\n",
    "    canvas.draw()\n",
    "    width, height = fig.get_size_inches() * fig.get_dpi()\n",
    "    image = np.frombuffer(canvas.tostring_rgb(), dtype='uint8').reshape(int(height), int(width), 3)\n",
    "    return cv2.cvtColor(image, cv2.COLOR_RGB2BGR)"
   ]
  },
  {
   "cell_type": "code",
   "execution_count": 3,
   "metadata": {},
   "outputs": [],
   "source": [
    "type1_houses = [(69,111), (69,264), (138,12), (138,165), (192,111), (192,264), (261,12), (261,165)]\n",
    "def in_type1_house(x, y):\n",
    "    def _in_type1_house(hx, hy, x, y):\n",
    "        return (hx < x and x < hx + 18 and hy < y and y < hy + 18)\n",
    "    for hx, hy in type1_houses:\n",
    "        if _in_type1_house(hx, hy, x, y):\n",
    "            return True\n",
    "    return False"
   ]
  },
  {
   "cell_type": "code",
   "execution_count": 4,
   "metadata": {},
   "outputs": [],
   "source": [
    "type2_houses = [(69,12), (69,165), (192,12), (192,165)]\n",
    "def in_type2_house(x, y):\n",
    "    def _in_type2_house(hx, hy, x, y):\n",
    "        return (hx < x < hx + 18 and hy < y < hy + 78) or (hx < x < hx + 30 and hy < y < hy + 18)\n",
    "    for hx, hy in type2_houses:\n",
    "        if _in_type2_house(hx, hy, x, y):\n",
    "            return True\n",
    "    return False"
   ]
  },
  {
   "cell_type": "code",
   "execution_count": 5,
   "metadata": {},
   "outputs": [],
   "source": [
    "type3_houses = [(138,51), (138,204), (261,51), (261,204)]\n",
    "def in_type3_house(x, y):\n",
    "    def _in_type3_house(hx, hy, x, y):\n",
    "        return (hx < x < hx + 18 and hy < y < hy + 78) or (hx - 12 < x < hx + 18 and hy + 60 < y < hy + 78)\n",
    "    for hx, hy in type3_houses:\n",
    "        if _in_type3_house(hx, hy, x, y):\n",
    "            return True\n",
    "    return False"
   ]
  },
  {
   "cell_type": "code",
   "execution_count": 6,
   "metadata": {},
   "outputs": [],
   "source": [
    "def in_house(x, y):\n",
    "    return in_type1_house(x, y) or in_type2_house(x, y) or in_type3_house(x, y)"
   ]
  },
  {
   "cell_type": "code",
   "execution_count": 7,
   "metadata": {},
   "outputs": [],
   "source": [
    "def edge_condition(x, y, M):\n",
    "    k = 300 / M\n",
    "    nx = x * k\n",
    "    ny = y * k\n",
    "    return in_house(nx, ny) or x > M - 1 or y > M - 1 or y <= 0"
   ]
  },
  {
   "cell_type": "code",
   "execution_count": 8,
   "metadata": {},
   "outputs": [],
   "source": [
    "def solve(M = 300, eps = 1e-8, iters = 500000, writeVideo=True):  \n",
    "    k = 0.5\n",
    "    l1 = 1\n",
    "    l2 = 0\n",
    "    \n",
    "    tau = 1 / (4 * k * M * M)\n",
    "    h = 1 / M\n",
    "    coeffs = [\n",
    "            1 - 4 * tau * k / (h**2),\n",
    "            tau * (k / (h**2) - l1 / (2 * h)),\n",
    "            tau * (k / (h**2) + l1 / (2 * h)),\n",
    "            tau * (k / (h**2) - l2 / (2 * h)),\n",
    "            tau * (k / (h**2) + l2 / (2 * h))\n",
    "        ]\n",
    "    dx = [0, 1, -1, 0, 0]\n",
    "    dy = [0, 0, 0, 1, -1]\n",
    "    \n",
    "    MM = M * M\n",
    "    \n",
    "    A = lil_matrix((MM, MM), dtype=np.float64)\n",
    "    b = np.zeros(MM)\n",
    "    \n",
    "    for x in range(M): \n",
    "        for y in range(M):\n",
    "            i = x * M + y\n",
    "            if x == 0:\n",
    "                A[i, i] = 1\n",
    "                continue\n",
    "            A[i, i] = coeffs[0]\n",
    "            if edge_condition(x, y, M):\n",
    "                continue\n",
    "            for d in range(1, 5):\n",
    "                nx = x + dx[d]\n",
    "                ny = y + dy[d]\n",
    "                if nx == 0:\n",
    "                    b[i] += coeffs[d]\n",
    "                elif edge_condition(nx, ny, M):\n",
    "                    A[i, i] += coeffs[d]\n",
    "                else:\n",
    "                    A[i, nx * M + ny] = coeffs[d]\n",
    "\n",
    "    A = csc_matrix(A)\n",
    "    u = np.zeros(MM)\n",
    "    u[0:M] = 1\n",
    "    \n",
    "    if writeVideo:\n",
    "        img = get_bgr_img(u.reshape((M, M)).T)\n",
    "        width, height = img.shape[:-1]\n",
    "        vid = VideoWriter(f'diffusion-eps{eps}-M{M}.avi', VideoWriter_fourcc(*\"XVID\"), 10.0, (height, width))\n",
    "    \n",
    "    for i in tqdm_notebook(range(iters)):\n",
    "        u_new = A * u + b\n",
    "        error = np.max(np.abs((u_new - u) / np.maximum(1, u)))\n",
    "        u = u_new\n",
    "        if i % 500 == 0 and writeVideo:\n",
    "            vid.write(get_bgr_img(u.reshape((M, M)).T))\n",
    "        if error < eps:\n",
    "            print(\"Epsilon stop, iter:\", i)\n",
    "            break\n",
    "    if writeVideo:\n",
    "        vid.release()\n",
    "        \n",
    "    res = u.reshape((M, M)).T\n",
    "    fig = plt.imshow(res)\n",
    "    plt.colorbar(fig)\n",
    "    plt.gca().invert_yaxis()\n",
    "    plt.show()\n",
    "    return res"
   ]
  },
  {
   "cell_type": "code",
   "execution_count": 9,
   "metadata": {
    "scrolled": true
   },
   "outputs": [
    {
     "data": {
      "application/vnd.jupyter.widget-view+json": {
       "model_id": "7358c99fb5f148e39d55a1f002ab5280",
       "version_major": 2,
       "version_minor": 0
      },
      "text/plain": [
       "HBox(children=(IntProgress(value=0, max=500000), HTML(value='')))"
      ]
     },
     "metadata": {},
     "output_type": "display_data"
    },
    {
     "name": "stdout",
     "output_type": "stream",
     "text": [
      "Epsilon stop, iter: 3914\n"
     ]
    },
    {
     "data": {
      "image/png": "[encoded data removed]",
      "text/plain": [
       "<Figure size 432x288 with 2 Axes>"
      ]
     },
     "metadata": {
      "needs_background": "light"
     },
     "output_type": "display_data"
    }
   ],
   "source": [
    "res = solve(M = 300, eps = 1e-4)"
   ]
  },
  {
   "cell_type": "code",
   "execution_count": 10,
   "metadata": {},
   "outputs": [
    {
     "data": {
      "application/vnd.jupyter.widget-view+json": {
       "model_id": "ace412b91f5c45d2837c7704c557c3c5",
       "version_major": 2,
       "version_minor": 0
      },
      "text/plain": [
       "HBox(children=(IntProgress(value=0, max=500000), HTML(value='')))"
      ]
     },
     "metadata": {},
     "output_type": "display_data"
    },
    {
     "name": "stdout",
     "output_type": "stream",
     "text": [
      "Epsilon stop, iter: 36163\n"
     ]
    },
    {
     "data": {
      "image/png": "[encoded data removed]",
      "text/plain": [
       "<Figure size 432x288 with 2 Axes>"
      ]
     },
     "metadata": {
      "needs_background": "light"
     },
     "output_type": "display_data"
    }
   ],
   "source": [
    "res = solve(M = 300, eps = 1e-5)"
   ]
  },
  {
   "cell_type": "code",
   "execution_count": 11,
   "metadata": {},
   "outputs": [
    {
     "data": {
      "application/vnd.jupyter.widget-view+json": {
       "model_id": "103d835059464984a49d5352e22efebd",
       "version_major": 2,
       "version_minor": 0
      },
      "text/plain": [
       "HBox(children=(IntProgress(value=0, max=500000), HTML(value='')))"
      ]
     },
     "metadata": {},
     "output_type": "display_data"
    },
    {
     "name": "stdout",
     "output_type": "stream",
     "text": [
      "Epsilon stop, iter: 303118\n"
     ]
    },
    {
     "data": {
      "image/png": "[encoded data removed]",
      "text/plain": [
       "<Figure size 432x288 with 2 Axes>"
      ]
     },
     "metadata": {
      "needs_background": "light"
     },
     "output_type": "display_data"
    }
   ],
   "source": [
    "res = solve(M = 300, eps = 1e-6)"
   ]
  },
  {
   "cell_type": "code",
   "execution_count": null,
   "metadata": {},
   "outputs": [],
   "source": []
  }
 ],
 "metadata": {
  "kernelspec": {
   "display_name": "Python 3",
   "language": "python",
   "name": "python3"
  },
  "language_info": {
   "codemirror_mode": {
    "name": "ipython",
    "version": 3
   },
   "file_extension": ".py",
   "mimetype": "text/x-python",
   "name": "python",
   "nbconvert_exporter": "python",
   "pygments_lexer": "ipython3",
   "version": "3.6.8"
  }
 },
 "nbformat": 4,
 "nbformat_minor": 2
}
